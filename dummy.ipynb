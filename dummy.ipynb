{
 "cells": [
  {
   "cell_type": "code",
   "execution_count": 1,
   "metadata": {},
   "outputs": [
    {
     "name": "stdout",
     "output_type": "stream",
     "text": [
      "\u001b[1;33m2024-10-23 11:11:26 | [WARNING ] The AmesStereoPipeline binaries not found. Please add them to the PATH environmental variable with pyasp.add_asp_binary('path/to/asp/binaries').\u001b[0m\n"
     ]
    }
   ],
   "source": [
    "%reload_ext autoreload\n",
    "%autoreload 2\n",
    "\n",
    "from pathlib import Path\n",
    "\n",
    "import pyasp\n",
    "from pyasp.pipeline import Spot5Pipeline\n",
    "\n",
    "# Add the Ames Stereo Pipeline binaries to the PATH\n",
    "pyasp.add_asp_binary(\n",
    "    Path.home() / \"StereoPipeline-3.5.0-alpha-2024-10-06-x86_64-Linux/bin\"\n",
    ")"
   ]
  },
  {
   "cell_type": "code",
   "execution_count": 3,
   "metadata": {},
   "outputs": [
    {
     "name": "stdout",
     "output_type": "stream",
     "text": [
      "\u001b[0;37m2024-10-23 11:11:38 | [INFO    ] Skipping command check for parallel_stereo. Some parameters may not be validated.\u001b[0m\n"
     ]
    }
   ],
   "source": [
    "config_dict = {\n",
    "    \"name\": \"spot5_sgm\",\n",
    "    \"paths\": {\n",
    "        \"front_scene\": \"demo/data/img/002-006_S5_053-256-0_2005-01-04-10-34-09_HRS-1_S_DT_TT/SCENE01\",\n",
    "        \"back_scene\": \"demo/data/img/002-006_S5_053-256-0_2005-01-04-10-35-40_HRS-2_S_DT_TT/SCENE01\",\n",
    "        \"output_dir\": \"demo/output\",\n",
    "        \"dem_path\": \"demo/data/COP-DEM_GLO-30-DGED__2023_1_32632.tif\",\n",
    "    },\n",
    "    \"pre_process\": {\n",
    "        \"do_compute_rpc\": True,\n",
    "        \"do_bundle_adjust\": True,\n",
    "        \"do_mapproject\": True,\n",
    "        \"epsg\": 32632,\n",
    "        \"mapproj_resolution\": 10,\n",
    "        \"min_height\": 100,  # Leave as None for no limit\n",
    "        \"max_height\": 4500,  # Leave as None for no limit\n",
    "    },\n",
    "    \"stereo\": {\n",
    "        \"stereo_algorithm\": \"asp_sgm\",\n",
    "        \"cost_mode\": 3,\n",
    "        \"corr_kernel\": [7, 7],\n",
    "        \"subpixel-mode\": 9,\n",
    "        \"dem_resolution\": 10,\n",
    "    },\n",
    "    \"post_process\": {\n",
    "        \"geoid\": \"EGM2008\",  # -1 for not applying geoid\n",
    "    },\n",
    "}\n",
    "\n",
    "# Create a Spot5Pipeline object from a dictionary\n",
    "pipeline = Spot5Pipeline.from_dict(config_dict)"
   ]
  },
  {
   "cell_type": "code",
   "execution_count": null,
   "metadata": {},
   "outputs": [
    {
     "name": "stdout",
     "output_type": "stream",
     "text": [
      "\u001b[0;37m2024-10-23 11:12:20 | [INFO    ] Running step: AddSpotRPC - 'add_spot_rpc demo/data/img/002-006_S5_053-256-0_2005-01-04-10-34-09_HRS-1_S_DT_TT/SCENE01/METADATA.DIM --min-height 100 --max-height 4500'\u001b[0m\n"
     ]
    }
   ],
   "source": [
    "pipeline.run()"
   ]
  }
 ],
 "metadata": {
  "kernelspec": {
   "display_name": "asp",
   "language": "python",
   "name": "python3"
  },
  "language_info": {
   "codemirror_mode": {
    "name": "ipython",
    "version": 3
   },
   "file_extension": ".py",
   "mimetype": "text/x-python",
   "name": "python",
   "nbconvert_exporter": "python",
   "pygments_lexer": "ipython3",
   "version": "3.10.14"
  }
 },
 "nbformat": 4,
 "nbformat_minor": 2
}
